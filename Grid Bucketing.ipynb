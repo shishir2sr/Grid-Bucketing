{
 "cells": [
  {
   "cell_type": "code",
   "execution_count": 2,
   "metadata": {},
   "outputs": [],
   "source": [
    "import pprint\n",
    "import math\n",
    "\n",
    "def sortByDistFromZero(l,ldist):\n",
    "    \n",
    "    z = [l for _,l in sorted(zip(ldist,lst))]\n",
    "    return z\n"
   ]
  },
  {
   "cell_type": "markdown",
   "metadata": {},
   "source": []
  },
  {
   "cell_type": "code",
   "execution_count": 3,
   "metadata": {},
   "outputs": [],
   "source": [
    "def chunks(ls,n): \n",
    "    \n",
    "    l = sortByDistFromZero(ls,dist(ls))\n",
    "    \n",
    "    for i in range(0, len(l), n): \n",
    "        yield l[i:i + n] "
   ]
  },
  {
   "cell_type": "markdown",
   "metadata": {},
   "source": [
    "#  Euclidean Distance"
   ]
  },
  {
   "cell_type": "markdown",
   "metadata": {},
   "source": [
    "Euclidean Distance calculated in this step. Distance calculated from (0,0) position to each point of the original list and then the the result stored in another list correstponding to each point. "
   ]
  },
  {
   "cell_type": "code",
   "execution_count": 4,
   "metadata": {},
   "outputs": [],
   "source": [
    "def dist(l):\n",
    "    lst = []\n",
    "    \n",
    "    for i in range(0,len(l)):\n",
    "        lst.append(math.sqrt((0-l[i][0])**2+(0-l[i][1])**2))\n",
    "    return lst\n"
   ]
  },
  {
   "cell_type": "code",
   "execution_count": 19,
   "metadata": {},
   "outputs": [
    {
     "name": "stdout",
     "output_type": "stream",
     "text": [
      "Points  \t\t  Distance from(0,0)\n",
      "[1, 2]   \t\t      2.24\n",
      "[3, 4]   \t\t      5.0\n",
      "[5, 6]   \t\t      7.81\n",
      "[7, 8]   \t\t      10.63\n",
      "[10, 11]   \t\t      14.87\n",
      "[4, 2]   \t\t      4.47\n",
      "[9, 1]   \t\t      9.06\n",
      "[11, 14]   \t\t      17.8\n",
      "[2, 8]   \t\t      8.25\n",
      "[6, 4]   \t\t      7.21\n",
      "[-1, -1]   \t\t      1.41\n",
      "[-3, 4]   \t\t      5.0\n",
      "\n",
      "########Sorted by Distance from Center#########\n",
      "\n",
      "Points  \t\t  Distance form (0,0) \n",
      "[-1, -1]   \t\t     1.41\n",
      "[1, 2]   \t\t     2.24\n",
      "[4, 2]   \t\t     4.47\n",
      "[-3, 4]   \t\t     5.0\n",
      "[3, 4]   \t\t     5.0\n",
      "[6, 4]   \t\t     7.21\n",
      "[5, 6]   \t\t     7.81\n",
      "[2, 8]   \t\t     8.25\n",
      "[9, 1]   \t\t     9.06\n",
      "[7, 8]   \t\t     10.63\n",
      "[10, 11]   \t\t     14.87\n",
      "[11, 14]   \t\t     17.8\n",
      "\n",
      "\n",
      "Enter the bucket size for slicing: 5\n",
      "\n",
      "\n",
      "After Bucketing:  [[[-1, -1], [1, 2], [4, 2], [-3, 4], [3, 4]], [[6, 4], [5, 6], [2, 8], [9, 1], [7, 8]], [[10, 11], [11, 14]]] \n",
      "\n",
      "\n",
      "[[[-1, -1], [1, 2], [4, 2], [-3, 4], [3, 4]],\n",
      " [[6, 4], [5, 6], [2, 8], [9, 1], [7, 8]],\n",
      " [[10, 11], [11, 14]]]\n"
     ]
    }
   ],
   "source": [
    "lst = [[1,2],[3,4],[5,6],[7,8],[10,11],[4,2],[9,1],[11,14],[2,8],[6,4],[-1,-1],[-3,4]]\n",
    "\n",
    "dst = dist(lst)\n",
    "\n",
    "print(\"Points  \\t\\t  Distance from(0,0)\")\n",
    "\n",
    "for i in range(0,len(lst)):\n",
    "    print(lst[i],\"  \\t\\t     \",round(dst[i], 2))\n",
    "\n",
    "\n",
    "\n",
    "a = sortByDistFromZero(lst,dist(lst))\n",
    "b = dst\n",
    "b.sort()\n",
    "print(\"\\n########Sorted by Distance from Center#########\\n\")\n",
    "print(\"Points  \\t\\t  Distance form (0,0) \")\n",
    "for j in range(0,len(lst)):\n",
    "    print(a[j],\"  \\t\\t    \",round(b[j], 2))\n",
    "\n",
    "\n",
    "\n",
    "n = int(input(\"\\n\\nEnter the bucket size for slicing: \"))  \n",
    "ls=(list(chunks(lst, n)))\n",
    "print(\"\\n\\nAfter Bucketing: \", ls,\"\\n\\n\")\n",
    "pprint.pprint(ls)"
   ]
  },
  {
   "cell_type": "code",
   "execution_count": null,
   "metadata": {
    "collapsed": true
   },
   "outputs": [],
   "source": []
  }
 ],
 "metadata": {
  "language_info": {
   "codemirror_mode": {
    "name": "ipython",
    "version": 3
   },
   "file_extension": ".py",
   "mimetype": "text/x-python",
   "name": "python",
   "nbconvert_exporter": "python",
   "pygments_lexer": "ipython3",
   "version": "3.6.3"
  }
 },
 "nbformat": 4,
 "nbformat_minor": 2
}
