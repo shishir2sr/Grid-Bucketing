{
 "cells": [
  {
   "cell_type": "code",
   "execution_count": 8,
   "metadata": {},
   "outputs": [
    {
     "name": "stdout",
     "output_type": "stream",
     "text": [
      "Original Lists:  [[1, 2], [3, 4], [5, 6], [7, 8], [10, 11], [4, 2], [9, 1], [11, 14], [2, 8], [6, 4]]\n",
      " Enter the bucket size: 3\n",
      "\n",
      "Result:  [[[1, 2], [2, 8], [3, 4]], [[4, 2], [5, 6], [6, 4]], [[7, 8], [9, 1], [10, 11]], [[11, 14]]]\n",
      "\n",
      "\n",
      "[[[1, 2], [2, 8], [3, 4]],\n",
      " [[4, 2], [5, 6], [6, 4]],\n",
      " [[7, 8], [9, 1], [10, 11]],\n",
      " [[11, 14]]]\n"
     ]
    }
   ],
   "source": [
    "import pprint\n",
    "\n",
    "def chunks(l, n): \n",
    "    l.sort(key=sortByFirst)\n",
    "    for i in range(0, len(l), n): \n",
    "        yield l[i:i + n] \n",
    "        \n",
    "def sortByFirst(val):\n",
    "    return val[0]\n",
    " \n",
    "\n",
    "\n",
    "lst = [[1,2],[3,4],[5,6],[7,8],[10,11],[4,2],[9,1],[11,14],[2,8],[6,4]]\n",
    "\n",
    "print(\"Original Lists: \",lst)\n",
    "\n",
    "n = int(input(\" Enter the bucket size: \"))\n",
    "\n",
    "print()\n",
    "\n",
    "ls=(list(chunks(lst, n)))\n",
    "\n",
    "print(\"Result: \", ls)\n",
    "print()\n",
    "print()\n",
    "    \n",
    "\n",
    "#[print(ls[i]) for i in range(0,len(ls))] \n",
    "\n",
    "pprint.pprint(ls)\n",
    "\n",
    "\n",
    "        \n",
    "\n"
   ]
  },
  {
   "cell_type": "code",
   "execution_count": null,
   "metadata": {
    "collapsed": true
   },
   "outputs": [],
   "source": []
  },
  {
   "cell_type": "code",
   "execution_count": null,
   "metadata": {
    "collapsed": true
   },
   "outputs": [],
   "source": []
  }
 ],
 "metadata": {
  "kernelspec": {
   "display_name": "Python 3",
   "language": "python",
   "name": "python3"
  },
  "language_info": {
   "codemirror_mode": {
    "name": "ipython",
    "version": 3
   },
   "file_extension": ".py",
   "mimetype": "text/x-python",
   "name": "python",
   "nbconvert_exporter": "python",
   "pygments_lexer": "ipython3",
   "version": "3.6.3"
  }
 },
 "nbformat": 4,
 "nbformat_minor": 2
}
